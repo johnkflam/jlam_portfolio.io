{
 "cells": [
  {
   "cell_type": "markdown",
   "metadata": {},
   "source": [
    "##  Analysis finiancial differences between age groups \n",
    "\n",
    "[Work Experience and Income data from Data Source from U.S. Census Bureau](https://www.census.gov/data/datasets/time-series/demo/cps/cps-asec.html)\n",
    "\n",
    "Note on Data Sources\n",
    "1. Work experience information is given for individuals 15 years and older. \n",
    "2. All data and employment information refer to the prior year, while demographic information is current to the time of the study."
   ]
  },
  {
   "cell_type": "markdown",
   "metadata": {},
   "source": [
    "### Questions \n",
    "\n",
    "- **How do generations vary financially?**\n",
    "- **Which industries to different generations work in?**\n",
    "- **What are the average hours worked per week for each generation?**"
   ]
  },
  {
   "cell_type": "markdown",
   "metadata": {},
   "source": [
    "### Methodology\n",
    "\n",
    "* [Section 1: Data Exploration and Data Cleansing](#section_1)\n",
    "    * [Section 1.1: Using histogram to spot age outliers](#section_1_1)\n",
    "    * [Section 1.2: Review Education Attainment distribution](#section_1_2)\n",
    "    * [Section 1.3: Using Boxplot and percentil to examine Total Earnings Column](#section_1_3)\n",
    "* [Section 2: Feature Engineering](#section_2)\n",
    "    * [Section 2.1: Bucketing Age to Age Group to reduce Categories](#section_2_1)\n",
    "* [Section 3: Analysis](#section_3)\n",
    "    * [Section 3.1: Earning Analysis](#section_3_1)\n",
    "    * [Section 3.2: Earning Observation](#section_3_2)\n",
    "    * [Section 3.3: Industry spread per generation](#section_3_3)"
   ]
  },
  {
   "cell_type": "markdown",
   "metadata": {},
   "source": [
    "#### Data Sources\n",
    "\n",
    "1. 2021 Annual Social and Economic Supplement (ASEC)\n",
    "\n",
    "The first data source comes from census.gov\n",
    "\n",
    "\n",
    "- For the sake of this project, we are just pulling from the individual (person) record type.\n",
    "\n"
   ]
  },
  {
   "cell_type": "code",
   "execution_count": 11,
   "metadata": {},
   "outputs": [],
   "source": [
    "#import pandas\n",
    "import pandas as pd\n",
    "import matplotlib.pyplot as plt"
   ]
  },
  {
   "cell_type": "code",
   "execution_count": 12,
   "metadata": {},
   "outputs": [],
   "source": [
    "#import the pppub21 dataset as 'person'\n",
    "person = pd.read_csv(\"pppub21.csv\")"
   ]
  },
  {
   "cell_type": "markdown",
   "metadata": {},
   "source": [
    "<section id=\"section_1\"></section>\n",
    "\n",
    "## Section 1 : Data Exploration  and Data Cleansing\n",
    "    "
   ]
  },
  {
   "cell_type": "markdown",
   "metadata": {},
   "source": [
    "####  Dimensions that are related to our questions"
   ]
  },
  {
   "cell_type": "markdown",
   "metadata": {},
   "source": [
    "| Column   | Description                              |\n",
    "| ---------| -----------------------------------------|\n",
    "| A_HGA    | educational attainment - nominal         |\n",
    "| AGE1     | age of individual, by group - ordinal    |\n",
    "| PEARNVAL | total earnings of the individual - ratio |\n",
    "| A_MJIND  | major industry code                      |\n",
    "\n",
    "\n"
   ]
  },
  {
   "cell_type": "markdown",
   "metadata": {},
   "source": [
    "<section id=\"section_1_1\"></section>\n",
    "\n",
    "### Section 1.1 : Using histogram to spot outliers\n"
   ]
  },
  {
   "cell_type": "markdown",
   "metadata": {},
   "source": [
    "#### Basic matrix of AGE"
   ]
  },
  {
   "cell_type": "code",
   "execution_count": 17,
   "metadata": {},
   "outputs": [
    {
     "data": {
      "text/plain": [
       "count    163543.000000\n",
       "mean          7.766392\n",
       "std           5.560080\n",
       "min           0.000000\n",
       "25%           2.000000\n",
       "50%           8.000000\n",
       "75%          12.000000\n",
       "max          17.000000\n",
       "Name: AGE1, dtype: float64"
      ]
     },
     "execution_count": 17,
     "metadata": {},
     "output_type": "execute_result"
    }
   ],
   "source": [
    "person['AGE1'].describe()"
   ]
  },
  {
   "cell_type": "markdown",
   "metadata": {},
   "source": [
    "#### Histogram of Age"
   ]
  },
  {
   "cell_type": "code",
   "execution_count": 89,
   "metadata": {
    "scrolled": true
   },
   "outputs": [
    {
     "data": {
      "text/plain": [
       "<AxesSubplot:title={'center':'distribution of AGE1 column'}>"
      ]
     },
     "execution_count": 89,
     "metadata": {},
     "output_type": "execute_result"
    },
    {
     "data": {
      "image/png": "[encoded data removed]",
      "text/plain": [
       "<Figure size 432x288 with 1 Axes>"
      ]
     },
     "metadata": {
      "needs_background": "light"
     },
     "output_type": "display_data"
    }
   ],
   "source": [
    "#create histogram \n",
    "age_distribution = person['AGE1'].value_counts()\n",
    "age_distribution.plot.bar(title=\"distribution of AGE1 column\")"
   ]
  },
  {
   "cell_type": "markdown",
   "metadata": {},
   "source": [
    "**It looks like there are a large number of columns that don't have an age attached with them. Our primary goal here is to evaluate how different generations vary in multiple finanical aspects, so let's create a new DF without columns that have 0 in the AGE1 column.**"
   ]
  },
  {
   "cell_type": "markdown",
   "metadata": {},
   "source": [
    "### Observation\n",
    "\n",
    "There were 35000 records with ago = 0. Since without age we can't do any generation analysis, \n",
    "let's drop them so they won't impact our study."
   ]
  },
  {
   "cell_type": "markdown",
   "metadata": {},
   "source": [
    "#### Drop those where AGE = 0"
   ]
  },
  {
   "cell_type": "code",
   "execution_count": 22,
   "metadata": {},
   "outputs": [],
   "source": [
    "#Create new DF\n",
    "person1 = person[person[\"AGE1\"] > 0]"
   ]
  },
  {
   "cell_type": "markdown",
   "metadata": {},
   "source": [
    "<section id=\"section_1_2\"></section>\n",
    "\n",
    "### Section 1.2 : Review Educational Attainment Distribution"
   ]
  },
  {
   "cell_type": "code",
   "execution_count": 21,
   "metadata": {},
   "outputs": [
    {
     "data": {
      "text/plain": [
       "count    129110.000000\n",
       "mean         40.326295\n",
       "std           2.858353\n",
       "min          31.000000\n",
       "25%          39.000000\n",
       "50%          40.000000\n",
       "75%          43.000000\n",
       "max          46.000000\n",
       "Name: A_HGA, dtype: float64"
      ]
     },
     "execution_count": 21,
     "metadata": {},
     "output_type": "execute_result"
    }
   ],
   "source": [
    "#run .describe() to see if there are any values that should not be there\n",
    "person1['A_HGA'].describe()"
   ]
  },
  {
   "cell_type": "markdown",
   "metadata": {},
   "source": [
    "#### Educational Attainment Column\n",
    "\n",
    "\n",
    "- Normal Value for the highest education received by the individual\n",
    "- Range : 31 to 46\n"
   ]
  },
  {
   "cell_type": "markdown",
   "metadata": {},
   "source": [
    "It looks like there are no values with 0 in this changed dataframe, which may indicate that every 0 value in the AGE1 category may have been under 15 years old. this works for us because we don't have financial information for them. Everything else looks okay so far, but let's plot a frequency histogram of the information."
   ]
  },
  {
   "cell_type": "code",
   "execution_count": 93,
   "metadata": {
    "scrolled": true
   },
   "outputs": [
    {
     "data": {
      "text/plain": [
       "<AxesSubplot:title={'center':'educational attainment'}>"
      ]
     },
     "execution_count": 93,
     "metadata": {},
     "output_type": "execute_result"
    },
    {
     "data": {
      "image/png": "[encoded data removed]",
      "text/plain": [
       "<Figure size 432x288 with 1 Axes>"
      ]
     },
     "metadata": {
      "needs_background": "light"
     },
     "output_type": "display_data"
    }
   ],
   "source": [
    "edu_distribution = person1['A_HGA'].value_counts()\n",
    "edu_distribution.plot.bar(title=\"educational attainment\")"
   ]
  },
  {
   "cell_type": "markdown",
   "metadata": {},
   "source": [
    "<section id=\"section_1_3\"></section>\n",
    "\n",
    "### Section 1.3 : Using Boxplot and percentil to examine Total Earnings Column\n",
    "\n",
    "- Total Earning : total amount that an individual has earned in the last year."
   ]
  },
  {
   "cell_type": "markdown",
   "metadata": {},
   "source": [
    "#### Basic Metrics for Total Earnings"
   ]
  },
  {
   "cell_type": "code",
   "execution_count": 23,
   "metadata": {},
   "outputs": [
    {
     "data": {
      "text/plain": [
       "count    1.291100e+05\n",
       "mean     3.627954e+04\n",
       "std      6.832647e+04\n",
       "min     -9.999000e+03\n",
       "25%      0.000000e+00\n",
       "50%      1.700000e+04\n",
       "75%      5.000000e+04\n",
       "max      2.899899e+06\n",
       "Name: PEARNVAL, dtype: float64"
      ]
     },
     "execution_count": 23,
     "metadata": {},
     "output_type": "execute_result"
    }
   ],
   "source": [
    "person1['PEARNVAL'].describe()"
   ]
  },
  {
   "cell_type": "markdown",
   "metadata": {},
   "source": [
    "It does look like we have negative values. Theoretically, it is possible that an individual can earn negative values. \n",
    "Let's plot out the values in a box-and-whisker plot to get a visual representation of the data spread."
   ]
  },
  {
   "cell_type": "code",
   "execution_count": 24,
   "metadata": {},
   "outputs": [
    {
     "data": {
      "text/plain": [
       "<AxesSubplot:>"
      ]
     },
     "execution_count": 24,
     "metadata": {},
     "output_type": "execute_result"
    },
    {
     "data": {
      "image/png": "[encoded data removed]",
      "text/plain": [
       "<Figure size 432x288 with 1 Axes>"
      ]
     },
     "metadata": {
      "needs_background": "light"
     },
     "output_type": "display_data"
    }
   ],
   "source": [
    "person1['PEARNVAL'].plot.box()"
   ]
  },
  {
   "cell_type": "markdown",
   "metadata": {},
   "source": [
    "#### Luckily, there don't seem to be too many negative values. Let's find out how many there are in proportion to positive values."
   ]
  },
  {
   "cell_type": "code",
   "execution_count": 96,
   "metadata": {},
   "outputs": [
    {
     "name": "stdout",
     "output_type": "stream",
     "text": [
      "<class 'pandas.core.frame.DataFrame'>\n",
      "positive earnings: 128853\n",
      "negative earnings: 257\n"
     ]
    }
   ],
   "source": [
    "positive_incomes = person1[person1['PEARNVAL'] >= 0]\n",
    "print(type(positive_incomes))\n",
    "print('positive earnings:',positive_incomes['PEARNVAL'].size)\n",
    "\n",
    "negative_incomes = person1[person1['PEARNVAL'] < 0]\n",
    "print('negative earnings:',negative_incomes['PEARNVAL'].size)\n"
   ]
  },
  {
   "cell_type": "markdown",
   "metadata": {},
   "source": [
    "Sometimes, -999 or -99 is used to indicate a null value, depending on who codes the information. As the max value is -9999, let's see how many instances of -9999 are:"
   ]
  },
  {
   "cell_type": "code",
   "execution_count": 97,
   "metadata": {},
   "outputs": [
    {
     "data": {
      "text/plain": [
       "145"
      ]
     },
     "execution_count": 97,
     "metadata": {},
     "output_type": "execute_result"
    }
   ],
   "source": [
    "#count number of items in negative_incomes['PEARNVAL']\n",
    "sum(negative_incomes['PEARNVAL'] == -9999)"
   ]
  },
  {
   "cell_type": "markdown",
   "metadata": {},
   "source": [
    "As the -9999 values make up the majority of the negative numbers, I'm going to make the assumption that these numbers are just missing financial information, and am going to remove it from person1."
   ]
  },
  {
   "cell_type": "code",
   "execution_count": 98,
   "metadata": {},
   "outputs": [],
   "source": [
    "#remove all values that equal to -9999\n",
    "person1 = person1[person1[\"PEARNVAL\"]> 0]\n"
   ]
  },
  {
   "cell_type": "code",
   "execution_count": 99,
   "metadata": {
    "scrolled": true
   },
   "outputs": [
    {
     "data": {
      "text/plain": [
       "count    8.115100e+04\n",
       "mean     5.774256e+04\n",
       "std      7.865875e+04\n",
       "min      1.000000e+00\n",
       "25%      2.000000e+04\n",
       "50%      4.000000e+04\n",
       "75%      7.000000e+04\n",
       "max      2.899899e+06\n",
       "Name: PEARNVAL, dtype: float64"
      ]
     },
     "execution_count": 99,
     "metadata": {},
     "output_type": "execute_result"
    }
   ],
   "source": [
    "person1['PEARNVAL'].describe()"
   ]
  },
  {
   "cell_type": "markdown",
   "metadata": {},
   "source": [
    "\n",
    "\n",
    "code: ERN_SRCE\n",
    "\n",
    "Earn Source is the source of earnings from the longest job - it categorizes the most significant type of earning for each individual.\n",
    "\n",
    "- 0: not asked\n",
    "- 1: wage and salary\n",
    "- 2: self employment\n",
    "- 3: farm self employment\n",
    "- 4: without pay"
   ]
  },
  {
   "cell_type": "code",
   "execution_count": 100,
   "metadata": {},
   "outputs": [
    {
     "data": {
      "text/plain": [
       "count    81151.000000\n",
       "mean         1.061145\n",
       "std          0.256105\n",
       "min          1.000000\n",
       "25%          1.000000\n",
       "50%          1.000000\n",
       "75%          1.000000\n",
       "max          4.000000\n",
       "Name: ERN_SRCE, dtype: float64"
      ]
     },
     "execution_count": 100,
     "metadata": {},
     "output_type": "execute_result"
    }
   ],
   "source": [
    "#.describe() for earn source\n",
    "person1[\"ERN_SRCE\"].describe()"
   ]
  },
  {
   "cell_type": "markdown",
   "metadata": {},
   "source": [
    "<section id=\"section_2\"></section>\n",
    "\n",
    "## Section 2.0 : Feature Engineering"
   ]
  },
  {
   "cell_type": "markdown",
   "metadata": {},
   "source": [
    "A large proportion of the respondents were not asked this question, so we may omit it from our analysis."
   ]
  },
  {
   "cell_type": "markdown",
   "metadata": {},
   "source": [
    "<section id=\"section_2_1\"></section>\n",
    "\n",
    "### Section 2.1: Bucketing Age to Age Group to reduce Categories \n",
    "\n",
    "\n",
    "we've cleared the data, and are ready to conduct our analysis.\n",
    "\n",
    "Our first step in our analysis is to determine how we would like to split our age groups apart.\n",
    "\n",
    "- Gen z: 9-24\n",
    "- Millenials: 25-40\n",
    "- Gen X: 41-56\n",
    "- Boomers: 57-75\n",
    "- Silent Gen: 76-93\n",
    "\n",
    "As we only have information that starts from 15 years and up, we'll start from millenials. Let's split the AGE1 into three groups:\n",
    "\n",
    "- Millenials: [6,7,8]\n",
    "- Gen X: [9,10,11]\n",
    "- Boomers: [12,13,14,15,16]\n",
    "\n",
    "Now, we'll write a function that assigns labels to the columns based on their AGE1 ranking\n"
   ]
  },
  {
   "cell_type": "code",
   "execution_count": 101,
   "metadata": {},
   "outputs": [],
   "source": [
    "#write function to assign labels depending on value\n",
    "def set_age_group(x):\n",
    "    if x >= 6 and x <= 8:\n",
    "        return 'Millenials'\n",
    "    elif x >= 9 and x <= 11:\n",
    "        return 'GenX'\n",
    "    elif x >= 12 and x <= 16:\n",
    "        return 'Boomers'\n",
    "    else:\n",
    "        return '0'"
   ]
  },
  {
   "cell_type": "code",
   "execution_count": 102,
   "metadata": {},
   "outputs": [],
   "source": [
    "#create new Series 'generation', apply it along the axis of a series \n",
    "person1['generation']=person1['AGE1'].apply(lambda x:set_age_group(x))"
   ]
  },
  {
   "cell_type": "code",
   "execution_count": 103,
   "metadata": {},
   "outputs": [],
   "source": [
    "#remove all columns that have value '0' in 'generations' value\n",
    "person1 = person1[person1['generation'] != '0']"
   ]
  },
  {
   "cell_type": "markdown",
   "metadata": {},
   "source": [
    "<section id=\"section_3\"></section>\n",
    "\n",
    "## Section 3.0: Analysis"
   ]
  },
  {
   "cell_type": "markdown",
   "metadata": {},
   "source": [
    "<section id=\"section_3_1\"></section>\n",
    "\n",
    "### Section 3.1:  Mean Earnings by Generation\n",
    "\n",
    "Now that we have the data separated into generations, let's examine the mean earnings by generation."
   ]
  },
  {
   "cell_type": "code",
   "execution_count": 104,
   "metadata": {},
   "outputs": [
    {
     "data": {
      "text/plain": [
       "generation\n",
       "Boomers       63207.904470\n",
       "GenX          71496.155789\n",
       "Millenials    54919.948285\n",
       "Name: PEARNVAL, dtype: float64"
      ]
     },
     "execution_count": 104,
     "metadata": {},
     "output_type": "execute_result"
    }
   ],
   "source": [
    "\n",
    "#create means for each value, grouping by 'generation' column\n",
    "earning_mean = person1.groupby('generation')['PEARNVAL'].mean()\n",
    "\n",
    "earning_mean"
   ]
  },
  {
   "cell_type": "code",
   "execution_count": 105,
   "metadata": {},
   "outputs": [
    {
     "data": {
      "text/plain": [
       "<AxesSubplot:title={'center':'Mean Earnings For 2020 By Generation'}, xlabel='generation'>"
      ]
     },
     "execution_count": 105,
     "metadata": {},
     "output_type": "execute_result"
    },
    {
     "data": {
      "image/png": "[encoded data removed]",
      "text/plain": [
       "<Figure size 432x288 with 1 Axes>"
      ]
     },
     "metadata": {
      "needs_background": "light"
     },
     "output_type": "display_data"
    }
   ],
   "source": [
    "#plot bar chart of earning_mean, sorting the values by descending order\n",
    "earning_mean.sort_values(ascending=False).plot.bar(title=\"Mean Earnings For 2020 By Generation\")"
   ]
  },
  {
   "cell_type": "code",
   "execution_count": 106,
   "metadata": {},
   "outputs": [
    {
     "data": {
      "text/plain": [
       "generation\n",
       "GenX          71496.155789\n",
       "Boomers       63207.904470\n",
       "Millenials    54919.948285\n",
       "Name: PEARNVAL, dtype: float64"
      ]
     },
     "execution_count": 106,
     "metadata": {},
     "output_type": "execute_result"
    }
   ],
   "source": [
    "earning_mean.sort_values(ascending=False)"
   ]
  },
  {
   "cell_type": "markdown",
   "metadata": {},
   "source": [
    "<section id=\"section_3_2\"></section>\n",
    "\n",
    "### Section 3.2: Mean Earning Observation\n",
    "\n",
    "Gen X has the highest average earnings per year, while boomers are in the middle, with millenials trailing behind. To make sure that our data isn't heavily skewed in any direction, let's print out the number of values for each generation."
   ]
  },
  {
   "cell_type": "code",
   "execution_count": 107,
   "metadata": {},
   "outputs": [
    {
     "data": {
      "text/plain": [
       "Millenials    26859\n",
       "GenX          25695\n",
       "Boomers       17942\n",
       "Name: generation, dtype: int64"
      ]
     },
     "execution_count": 107,
     "metadata": {},
     "output_type": "execute_result"
    }
   ],
   "source": [
    "person1['generation'].value_counts()"
   ]
  },
  {
   "cell_type": "markdown",
   "metadata": {},
   "source": [
    "\n",
    "There seem to be significantly less boomers than millenials and genx individuals. The sampling was done randomly to get a representative sample of ages and populations, and I know that the number of boomers dropped significantly after I filtered the dataframe earnings to greater than 0, so it is reasonable to conclude that **there is a dip in the number of boomers because many have reported their earnings as 0.** \n",
    "\n",
    "The drop in values can be most likely attributed to retirement, or boomers logging in their earnings as 0."
   ]
  },
  {
   "cell_type": "markdown",
   "metadata": {},
   "source": [
    "<section id=\"section_3_3\"></section_3_3>\n",
    "             \n",
    "### Section 3.3: Industry spread per generation\n",
    "\n",
    "Next, let's look at the different industries that each generation works in. Does the industry spread vary for each generation?\n",
    "\n",
    "Because there is already a row of 'generation', let's aggregrate 'A_MJIND' and name it industry_by_gen.\n",
    "\n",
    "First, let's remap the values in A_MJIND to its actual industries:\n"
   ]
  },
  {
   "cell_type": "code",
   "execution_count": 128,
   "metadata": {},
   "outputs": [],
   "source": [
    "#create dict for industry values to map\n",
    "industry_values = {0:'niu',1:\"Agriculture, forestry, fishing, and hunting\",2:\"Mining\",3:\"Construction\",\n",
    "                   4:\"Manufacturing\",5:\"Wholesale and retail trade\",6:\"Transportation and utilities\",\n",
    "                  7:\"Information\",8:\"Financial activities\",9:\"Professional and business services\",\n",
    "                   10:\"Educational and health services\",11:\"Leisure and hospitality\",\n",
    "                  12:\"Other services\",13:\"Public administration\",14:\"Armed Forces\"}"
   ]
  },
  {
   "cell_type": "code",
   "execution_count": 129,
   "metadata": {},
   "outputs": [
    {
     "data": {
      "text/plain": [
       "1    NaN\n",
       "3    NaN\n",
       "4    NaN\n",
       "5    NaN\n",
       "9    NaN\n",
       "Name: A_MJIND, dtype: object"
      ]
     },
     "execution_count": 129,
     "metadata": {},
     "output_type": "execute_result"
    }
   ],
   "source": [
    "#map onto person1['A_MJIND']\n",
    "person1['A_MJIND'] = person1[\"A_MJIND\"].map(industry_values)\n",
    "#read into head to verify change\n",
    "person1[\"A_MJIND\"].head()"
   ]
  },
  {
   "cell_type": "code",
   "execution_count": 110,
   "metadata": {},
   "outputs": [
    {
     "data": {
      "text/plain": [
       "generation  A_MJIND                                    \n",
       "Boomers     Educational and health services                3883\n",
       "            Wholesale and retail trade                     1994\n",
       "            Professional and business services             1917\n",
       "            Manufacturing                                  1675\n",
       "            niu                                            1565\n",
       "            Financial activities                           1219\n",
       "            Construction                                   1139\n",
       "            Transportation and utilities                   1043\n",
       "            Public administration                          1011\n",
       "            Leisure and hospitality                         908\n",
       "            Other services                                  847\n",
       "            Agriculture, forestry, fishing, and hunting     390\n",
       "            Information                                     258\n",
       "            Mining                                           92\n",
       "            Armed Forces                                      1\n",
       "GenX        Educational and health services                6274\n",
       "            Professional and business services             2959\n",
       "            Wholesale and retail trade                     2557\n",
       "            Manufacturing                                  2501\n",
       "            Construction                                   2037\n",
       "            Financial activities                           1820\n",
       "            Public administration                          1573\n",
       "            Transportation and utilities                   1489\n",
       "            Leisure and hospitality                        1424\n",
       "            Other services                                 1082\n",
       "            niu                                             998\n",
       "            Information                                     439\n",
       "            Agriculture, forestry, fishing, and hunting     357\n",
       "            Mining                                          180\n",
       "            Armed Forces                                      5\n",
       "Millenials  Educational and health services                6049\n",
       "            Professional and business services             3319\n",
       "            Wholesale and retail trade                     3055\n",
       "            Manufacturing                                  2373\n",
       "            Construction                                   2019\n",
       "            Leisure and hospitality                        1935\n",
       "            Financial activities                           1709\n",
       "            Transportation and utilities                   1450\n",
       "            niu                                            1444\n",
       "            Public administration                          1329\n",
       "            Other services                                 1131\n",
       "            Information                                     484\n",
       "            Agriculture, forestry, fishing, and hunting     375\n",
       "            Mining                                          185\n",
       "            Armed Forces                                      2\n",
       "Name: A_MJIND, dtype: int64"
      ]
     },
     "execution_count": 110,
     "metadata": {},
     "output_type": "execute_result"
    }
   ],
   "source": [
    "#create grouped series 'industry_by_gen', grouping by generation, agg by industry counts\n",
    "industry_by_gen = person1.groupby('generation')['A_MJIND'].value_counts()\n",
    "industry_by_gen.sort_values(ascending=False)\n",
    "\n",
    "industry_by_gen"
   ]
  },
  {
   "cell_type": "markdown",
   "metadata": {},
   "source": [
    "We have sorted individuals into their respective generations and categorized their industries by group. Let's look at a visual representation for each group."
   ]
  },
  {
   "cell_type": "markdown",
   "metadata": {},
   "source": [
    "<section id=\"section_3_4\"></section>\n",
    "\n",
    "### Section 3.4: Top 10 Industries"
   ]
  },
  {
   "cell_type": "code",
   "execution_count": 25,
   "metadata": {},
   "outputs": [
    {
     "data": {
      "text/plain": [
       "<AxesSubplot:title={'center':'Top 10 Industries'}>"
      ]
     },
     "execution_count": 25,
     "metadata": {},
     "output_type": "execute_result"
    },
    {
     "data": {
      "image/png": "[encoded data removed]",
      "text/plain": [
       "<Figure size 432x288 with 1 Axes>"
      ]
     },
     "metadata": {
      "needs_background": "light"
     },
     "output_type": "display_data"
    }
   ],
   "source": [
    "#top 10 industries in general\n",
    "industry_temp = person1['A_MJIND'].value_counts().nlargest(n=10).sort_values(ascending=True)\n",
    "industry_temp.plot.barh(title=\"Top 10 Industries\")"
   ]
  },
  {
   "cell_type": "code",
   "execution_count": 121,
   "metadata": {},
   "outputs": [
    {
     "data": {
      "text/plain": [
       "<AxesSubplot:ylabel='A_MJIND'>"
      ]
     },
     "execution_count": 121,
     "metadata": {},
     "output_type": "execute_result"
    },
    {
     "data": {
      "image/png": "[encoded data removed]",
      "text/plain": [
       "<Figure size 432x288 with 1 Axes>"
      ]
     },
     "metadata": {
      "needs_background": "light"
     },
     "output_type": "display_data"
    }
   ],
   "source": [
    "industry_by_gen['Boomers'].nlargest(n=5).sort_values(ascending=True).plot.barh()"
   ]
  },
  {
   "cell_type": "code",
   "execution_count": 122,
   "metadata": {},
   "outputs": [
    {
     "data": {
      "text/plain": [
       "<AxesSubplot:ylabel='A_MJIND'>"
      ]
     },
     "execution_count": 122,
     "metadata": {},
     "output_type": "execute_result"
    },
    {
     "data": {
      "image/png": "[encoded data removed]",
      "text/plain": [
       "<Figure size 432x288 with 1 Axes>"
      ]
     },
     "metadata": {
      "needs_background": "light"
     },
     "output_type": "display_data"
    }
   ],
   "source": [
    "industry_by_gen['GenX'].nlargest(n=5).sort_values(ascending=True).plot.barh()"
   ]
  },
  {
   "cell_type": "code",
   "execution_count": 123,
   "metadata": {},
   "outputs": [
    {
     "data": {
      "text/plain": [
       "<AxesSubplot:ylabel='A_MJIND'>"
      ]
     },
     "execution_count": 123,
     "metadata": {},
     "output_type": "execute_result"
    },
    {
     "data": {
      "image/png": "[encoded data removed]",
      "text/plain": [
       "<Figure size 432x288 with 1 Axes>"
      ]
     },
     "metadata": {
      "needs_background": "light"
     },
     "output_type": "display_data"
    }
   ],
   "source": [
    "industry_by_gen['Millenials'].nlargest(n=5).sort_values(ascending=True).plot.barh()"
   ]
  },
  {
   "cell_type": "markdown",
   "metadata": {},
   "source": [
    "## Industry Analysis\n",
    "\n",
    "Overall, it doesn't look like a large difference between the industries between generations, aside from some minor variances. There doesn't seem to be much here to explain the significant earning disparity between generations."
   ]
  },
  {
   "cell_type": "markdown",
   "metadata": {},
   "source": [
    "## Average hours worked by generation\n",
    "\n",
    "column: HRSWK\n",
    "\n",
    "let's find the average number of hours worked/week for each generation"
   ]
  },
  {
   "cell_type": "code",
   "execution_count": 125,
   "metadata": {},
   "outputs": [],
   "source": [
    "#create grouped series\n",
    "hours_worked_by_gen = person1.groupby('generation')['HRSWK'].mean()"
   ]
  },
  {
   "cell_type": "code",
   "execution_count": 126,
   "metadata": {},
   "outputs": [
    {
     "data": {
      "text/plain": [
       "generation\n",
       "Boomers       38.502341\n",
       "GenX          40.692002\n",
       "Millenials    39.804386\n",
       "Name: HRSWK, dtype: float64"
      ]
     },
     "execution_count": 126,
     "metadata": {},
     "output_type": "execute_result"
    }
   ],
   "source": [
    "hours_worked_by_gen"
   ]
  },
  {
   "cell_type": "code",
   "execution_count": 127,
   "metadata": {},
   "outputs": [
    {
     "data": {
      "text/plain": [
       "<AxesSubplot:ylabel='generation'>"
      ]
     },
     "execution_count": 127,
     "metadata": {},
     "output_type": "execute_result"
    },
    {
     "data": {
      "image/png": "[encoded data removed]",
      "text/plain": [
       "<Figure size 432x288 with 1 Axes>"
      ]
     },
     "metadata": {
      "needs_background": "light"
     },
     "output_type": "display_data"
    }
   ],
   "source": [
    "hours_worked_by_gen.plot.barh()"
   ]
  },
  {
   "cell_type": "markdown",
   "metadata": {},
   "source": [
    "# Analysis Summary\n",
    "\n",
    "## Questions\n",
    "\n",
    "From this dataset, we were able to ask 3 questions:\n",
    "\n",
    "- how much did each generation earn on average?\n",
    "- what was the industry spread for each generation?\n",
    "- what were the average hours worked per week for each generation?\n",
    "\n",
    "## Method\n",
    "\n",
    "In order to answer these questions, we first found the relevant dataset from census.gov, and\n",
    "isolated the columns that we needed:\n",
    "\n",
    "- A_HGA\n",
    "    - educational attainment - nominal\n",
    "- AGE1\n",
    "    - age of individual, by group - ordinal\n",
    "- PEARNVAL\n",
    "    - total earnings of the individual - ratio\n",
    "- A_MJIND\n",
    "    - major industry code\n",
    "\n",
    "For each column, we checked for the correct data type, checked for and removed incorrect values, and tested for outliers.\n",
    "\n",
    "After columns were checked for correctness, we split the data into three generations:\n",
    "    Boomers\n",
    "    Millenials\n",
    "    Gen X\n",
    "\n",
    "Using the cleaned columns and generation measure, we answered our questions.\n",
    "\n",
    "## Takeaways:\n",
    "\n",
    "Generation earnings\n",
    "\n",
    "    On average, genX individuals earned 8k more than boomers, and boomers earned 9k more than millenials\n",
    "\n",
    "    GenX          71496.155789\n",
    "    Boomers       63207.904470\n",
    "    Millenials    54919.948285\n",
    "\n",
    "\n",
    "Industry spread for each generation\n",
    "\n",
    "    For each generation, the majority of individuals worked in the educational and health services industries. \n",
    "    When each generation was ranked by top 5 industries, these 5 industries were consistently at the top of the list:\n",
    "    \n",
    "    - educational and health services\n",
    "    - professional and business services\n",
    "    - wholesale and retail trade\n",
    "    - manufacturing\n",
    "    - construction\n",
    "    \n",
    "Average hours worked per week for each generation\n",
    "\n",
    "    the spread seemed relatively close, there didn't seem to be any significant difference in hours worked overall\n",
    "    \n",
    "    GenX          40.692002\n",
    "    Millenials    39.804386\n",
    "    Boomers       38.502341\n",
    "    \n",
    "\n",
    "*A significant amount of the boomers had retired, and they listed their earnings as 0. We removed their information because we only wanted to look at individuals who were earning money.\n"
   ]
  },
  {
   "cell_type": "code",
   "execution_count": null,
   "metadata": {},
   "outputs": [],
   "source": []
  }
 ],
 "metadata": {
  "kernelspec": {
   "display_name": "Python 3",
   "language": "python",
   "name": "python3"
  },
  "language_info": {
   "codemirror_mode": {
    "name": "ipython",
    "version": 3
   },
   "file_extension": ".py",
   "mimetype": "text/x-python",
   "name": "python",
   "nbconvert_exporter": "python",
   "pygments_lexer": "ipython3",
   "version": "3.6.12"
  }
 },
 "nbformat": 4,
 "nbformat_minor": 5
}
